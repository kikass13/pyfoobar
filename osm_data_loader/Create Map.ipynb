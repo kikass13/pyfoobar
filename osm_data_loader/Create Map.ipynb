{
 "cells": [
  {
   "cell_type": "code",
   "execution_count": 1,
   "metadata": {},
   "outputs": [],
   "source": [
    "import overpy\n",
    "import fiona \n",
    "from fiona.crs import from_epsg\n",
    "import mapnik"
   ]
  },
  {
   "cell_type": "markdown",
   "metadata": {},
   "source": [
    "# Declare bounds and type of data you want to download from overpass api and save to shp file"
   ]
  },
  {
   "cell_type": "code",
   "execution_count": 2,
   "metadata": {},
   "outputs": [
    {
     "name": "stdout",
     "output_type": "stream",
     "text": [
      "[<overpy.Way id=437515420 nodes=[4353287465, 4353287468, 4353287453, 4353287456, 4353287450, 4353287447, 4353287465]>, <overpy.Way id=627320713 nodes=[5921975963, 5921975964, 5921975965, 5921975966, 5921975963]>, <overpy.Way id=627320714 nodes=[5921975967, 5921975968, 5921975969, 5921975970, 5921975967]>, <overpy.Way id=627320715 nodes=[5921975971, 5921975972, 5921975973, 5921975974, 5921975971]>, <overpy.Way id=627320717 nodes=[5921975979, 5921975980, 5921975981, 5921975982, 5921975979]>, <overpy.Way id=627320718 nodes=[5921975983, 5921975984, 5921976185, 5921976186, 5921975983]>, <overpy.Way id=627320719 nodes=[5921976187, 5921976188, 5921976189, 5921976190, 5921976187]>, <overpy.Way id=627320720 nodes=[5921976191, 5921976192, 5921976193, 5921976194, 5921976191]>, <overpy.Way id=627320721 nodes=[5921976195, 5921976196, 5921976197, 5921976198, 5921976195]>, <overpy.Way id=627320722 nodes=[5921976199, 5921976200, 5921976201, 5921976202, 5921976199]>, <overpy.Way id=627320723 nodes=[5921976203, 5921976204, 5921976205, 5921976206, 5921976203]>, <overpy.Way id=627320724 nodes=[5921976207, 5921976208, 5921976209, 5921976210, 5921976207]>, <overpy.Way id=627320726 nodes=[5921976215, 5921976216, 5921976217, 5921976218, 5921976215]>, <overpy.Way id=627320727 nodes=[5921976219, 5921976220, 5921976221, 5921976222, 5921976219]>, <overpy.Way id=627320728 nodes=[5921976223, 5921976224, 5921976225, 5921976226, 5921976223]>, <overpy.Way id=627320729 nodes=[5921976227, 5921976228, 5921976229, 5921976230, 5921976227]>, <overpy.Way id=627320730 nodes=[5921976231, 5921976232, 5921976233, 5921976234, 5921976231]>, <overpy.Way id=627320731 nodes=[5921976235, 5921976236, 5921976237, 5921976238, 5921976235]>, <overpy.Way id=627320733 nodes=[5921976243, 5921976244, 5921976245, 5921976246, 5921976243]>, <overpy.Way id=722173696 nodes=[6774153343, 6774153344, 6774153345, 6774153346, 6774153347, 6774153348, 6774153343]>, <overpy.Way id=722173697 nodes=[6774153354, 6774153355, 6774153356, 6774153357, 6774153354]>, <overpy.Way id=722173698 nodes=[6774153358, 6774153359, 6774153360, 6774153361, 6774153358]>]\n",
      "\n",
      "<osm-script>\n",
      "  <union>\n",
      "    <query type=\"way\">\n",
      "      <has-kv k=\"building\"/>\n",
      "      <bbox-query e=\"6.02609\" n=\"50.83191\" w=\"6.02336\" s=\"50.82918\"/>\n",
      "    </query>\n",
      "  </union>\n",
      "  <union>\n",
      "    <item/>\n",
      "    <recurse type=\"down\"/>\n",
      "  </union>\n",
      "  <print limit=\"\" mode=\"body\" order=\"id\"/>\n",
      "</osm-script>\n",
      "\n",
      "[<overpy.Way id=437515420 nodes=[4353287465, 4353287468, 4353287453, 4353287456, 4353287450, 4353287447, 4353287465]>, <overpy.Way id=627320713 nodes=[5921975963, 5921975964, 5921975965, 5921975966, 5921975963]>, <overpy.Way id=627320714 nodes=[5921975967, 5921975968, 5921975969, 5921975970, 5921975967]>, <overpy.Way id=627320715 nodes=[5921975971, 5921975972, 5921975973, 5921975974, 5921975971]>, <overpy.Way id=627320717 nodes=[5921975979, 5921975980, 5921975981, 5921975982, 5921975979]>, <overpy.Way id=627320718 nodes=[5921975983, 5921975984, 5921976185, 5921976186, 5921975983]>, <overpy.Way id=627320719 nodes=[5921976187, 5921976188, 5921976189, 5921976190, 5921976187]>, <overpy.Way id=627320720 nodes=[5921976191, 5921976192, 5921976193, 5921976194, 5921976191]>, <overpy.Way id=627320721 nodes=[5921976195, 5921976196, 5921976197, 5921976198, 5921976195]>, <overpy.Way id=627320722 nodes=[5921976199, 5921976200, 5921976201, 5921976202, 5921976199]>, <overpy.Way id=627320723 nodes=[5921976203, 5921976204, 5921976205, 5921976206, 5921976203]>, <overpy.Way id=627320724 nodes=[5921976207, 5921976208, 5921976209, 5921976210, 5921976207]>, <overpy.Way id=627320726 nodes=[5921976215, 5921976216, 5921976217, 5921976218, 5921976215]>, <overpy.Way id=627320727 nodes=[5921976219, 5921976220, 5921976221, 5921976222, 5921976219]>, <overpy.Way id=627320728 nodes=[5921976223, 5921976224, 5921976225, 5921976226, 5921976223]>, <overpy.Way id=627320729 nodes=[5921976227, 5921976228, 5921976229, 5921976230, 5921976227]>, <overpy.Way id=627320730 nodes=[5921976231, 5921976232, 5921976233, 5921976234, 5921976231]>, <overpy.Way id=627320731 nodes=[5921976235, 5921976236, 5921976237, 5921976238, 5921976235]>, <overpy.Way id=627320733 nodes=[5921976243, 5921976244, 5921976245, 5921976246, 5921976243]>, <overpy.Way id=722173696 nodes=[6774153343, 6774153344, 6774153345, 6774153346, 6774153347, 6774153348, 6774153343]>, <overpy.Way id=722173697 nodes=[6774153354, 6774153355, 6774153356, 6774153357, 6774153354]>, <overpy.Way id=722173698 nodes=[6774153358, 6774153359, 6774153360, 6774153361, 6774153358]>]\n",
      "False\n"
     ]
    }
   ],
   "source": [
    "api = overpy.Overpass()\n",
    "# fetch all ways and nodes\n",
    "\n",
    "south_bound = '50.82918'\n",
    "west_bound  = '6.02336'\n",
    "north_bound = '50.83191'\n",
    "east_bound  = '6.02609'\n",
    "\n",
    "bound_str = 'e=\"'+east_bound+'\" '+'n=\"'+north_bound+'\" '+'w=\"'+west_bound+'\" '+'s=\"'+south_bound+'\"'\n",
    "\n",
    "# call overpass api with specified bounds\n",
    "# load just ways (multiple nodes belonging to objects...will ignore single nodes) of type building\n",
    "\n",
    "#result = api.query(\"\"\"\n",
    "#way(\"\"\" + south_bound+ ',' + west_bound + ',' +north_bound+ ',' +east_bound+\"\"\") [\"building\"];\n",
    "#(._;>;);\n",
    "#out body;\n",
    "#\"\"\")\n",
    "\n",
    "query = \"\"\"\n",
    "<osm-script>\n",
    "  <union>\n",
    "    <query type=\"way\">\n",
    "      <has-kv k=\"building\"/>\n",
    "      <bbox-query \"\"\"+bound_str+\"\"\"/>\n",
    "    </query>\n",
    "  </union>\n",
    "  <union>\n",
    "    <item/>\n",
    "    <recurse type=\"down\"/>\n",
    "  </union>\n",
    "  <print limit=\"\" mode=\"body\" order=\"id\"/>\n",
    "</osm-script>\n",
    "\"\"\"\n",
    "result = api.query(query)\n",
    "\n",
    "#print(query)\n",
    "#print(new_result.ways)\n",
    "\n",
    "#print(new_result.ways==result.ways)\n",
    "\n",
    "#result = new_result\n",
    "\n",
    "# store data as shape file\n",
    "schema = {'geometry': 'LineString', 'properties': {'Name':'str:80'}}\n",
    "shapeout = \"test.shp\"\n"
   ]
  },
  {
   "cell_type": "markdown",
   "metadata": {},
   "source": [
    "## Interpret data from shape file and store them in a dictionary mapnik can work with"
   ]
  },
  {
   "cell_type": "code",
   "execution_count": 3,
   "metadata": {},
   "outputs": [],
   "source": [
    "with fiona.open(shapeout, 'w',crs=from_epsg(3857),driver='ESRI Shapefile', schema=schema) as output:\n",
    "    for i, way in enumerate(result.ways):                \n",
    "        #if (node.lat<north_bound and node.lat>south_bound and node.lon<west_bound and node.lon>east_bound ):\n",
    "        # the shapefile geometry use (lon,lat) \n",
    "        line = {'type': 'LineString', 'coordinates':[(node.lon, node.lat) for node in way.nodes ]}\n",
    "        prop = {'Name': way.tags.get(\"name\", \"n/a\")}\n",
    "        output.write({'geometry': line, 'properties':prop})"
   ]
  },
  {
   "cell_type": "markdown",
   "metadata": {},
   "source": [
    "## Tell mapnik the size of the output image and name of the shapefile with the osm data"
   ]
  },
  {
   "cell_type": "code",
   "execution_count": 4,
   "metadata": {},
   "outputs": [],
   "source": [
    "m = mapnik.Map(2000,2000)\n",
    "ds = mapnik.Shapefile(file='test.shp')\n",
    "ds.envelope()\n",
    "layer = mapnik.Layer('pz_koeln') "
   ]
  },
  {
   "cell_type": "markdown",
   "metadata": {},
   "source": [
    "## Check size of the resulting bounding box...overpass bounds are just a rough indication ;) "
   ]
  },
  {
   "cell_type": "code",
   "execution_count": 5,
   "metadata": {},
   "outputs": [
    {
     "name": "stdout",
     "output_type": "stream",
     "text": [
      "map:\n",
      "  min_lat: 50.8295206\n",
      "  min_lon: 6.0237424\n",
      "  max_lat: 50.8316988\n",
      "  max_lon: 6.0256929\n"
     ]
    }
   ],
   "source": [
    "envelope = ds.envelope()\n",
    "with open(\"map.yaml\", \"w\") as yamlFile:\n",
    "  west  = envelope[0]\n",
    "  south = envelope[1]\n",
    "  east  = envelope[2]\n",
    "  north = envelope[3]\n",
    "  yamlFile.write(\"map:\" + \"\\n\")\n",
    "  yamlFile.write(\"  min_lat: \" + str(south) + \"\\n\")\n",
    "  yamlFile.write(\"  min_lon: \" + str(west)  + \"\\n\")\n",
    "  yamlFile.write(\"  max_lat: \" + str(north) + \"\\n\")\n",
    "  yamlFile.write(\"  max_lon: \" + str(east)  + \"\\n\")\n",
    "  print(\"map:\")\n",
    "  print(\"  min_lat: \" + str(south))\n",
    "  print(\"  min_lon: \" + str(west))\n",
    "  print(\"  max_lat: \" + str(north))\n",
    "  print(\"  max_lon: \" + str(east))\n"
   ]
  },
  {
   "cell_type": "markdown",
   "metadata": {},
   "source": [
    "## Define projection and colors of the resulting image"
   ]
  },
  {
   "cell_type": "code",
   "execution_count": 6,
   "metadata": {},
   "outputs": [],
   "source": [
    "#m.srs = \"+init=epsg:3857\" # web mercator: epsg:3857 , mercator(wsg84): epsg:4326\n",
    "m.srs = '+proj=longlat +ellps=WGS84 +datum=WGS84 +no_defs'\n",
    "\n",
    "m.background = mapnik.Color(255,255,255,0) # set background colour to 'steelblue'. \n",
    "\n",
    "s = mapnik.Style() # style object to hold rules\n",
    "r = mapnik.Rule() # rule object to hold symbolizers\n",
    "# to fill a polygon we create a PolygonSymbolizer\n",
    "polygon_symbolizer = mapnik.PolygonSymbolizer()\n",
    "polygon_symbolizer.fill = mapnik.Color(2, 126, 255)\n",
    "\n",
    "#road_symbolizer = mapnik.LineSymbolizer()\n",
    "#road_symbolizer.stroke = mapnik.Color('green')\n",
    "\n",
    "r.symbols.append(polygon_symbolizer) # add the symbolizer to the rule object\n",
    "#r.symbols.append(road_symbolizer) # add the symbolizer to the rule object\n",
    "\n",
    "s.rules.append(r) # now add the rule to the style and we're done\n",
    "\n",
    "m.append_style('My Style',s) # Styles are given names only as they are applied to the map"
   ]
  },
  {
   "cell_type": "markdown",
   "metadata": {},
   "source": [
    "## Define zoom and name of output image"
   ]
  },
  {
   "cell_type": "code",
   "execution_count": 7,
   "metadata": {},
   "outputs": [
    {
     "name": "stdout",
     "output_type": "stream",
     "text": [
      "Box2d(6.0236285500000015,50.8295206,6.025806749999997,50.8316988)\n"
     ]
    }
   ],
   "source": [
    "layer.datasource = ds\n",
    "\n",
    "layer.styles.append('My Style')\n",
    "\n",
    "m.layers.append(layer)\n",
    "#m.aspect_fix_mode = mapnik.aspect_fix_mode.ADJUST_BBOX_HEIGHT\n",
    "#extent = mapnik.Box2d(50.88663, 6.92449, 50.88283, 6.91823)\n",
    "#m.zoom_to_box(envelope)\n",
    "#m.zoom(0.8)\n",
    "m.zoom_all()\n",
    "print(m.envelope())\n",
    "# Write the data to a png image called world.png in the current directory\n",
    "mapnik.render_to_file(m,'map.png', 'png')"
   ]
  },
  {
   "cell_type": "markdown",
   "metadata": {},
   "source": [
    "## check resulting image"
   ]
  },
  {
   "cell_type": "code",
   "execution_count": 8,
   "metadata": {},
   "outputs": [],
   "source": [
    "import matplotlib.pyplot as plt\n",
    "import matplotlib.image as mpimg"
   ]
  },
  {
   "cell_type": "code",
   "execution_count": 9,
   "metadata": {},
   "outputs": [
    {
     "data": {
      "text/plain": [
       "<matplotlib.image.AxesImage at 0x7f71ff2e0ef0>"
      ]
     },
     "execution_count": 9,
     "metadata": {},
     "output_type": "execute_result"
    },
    {
     "data": {
      "image/png": "[encoded data removed]",
      "text/plain": [
       "<Figure size 432x288 with 1 Axes>"
      ]
     },
     "metadata": {
      "needs_background": "light"
     },
     "output_type": "display_data"
    }
   ],
   "source": [
    "img=mpimg.imread('map.png')\n",
    "plt.imshow(img)"
   ]
  },
  {
   "cell_type": "code",
   "execution_count": 10,
   "metadata": {},
   "outputs": [
    {
     "name": "stdout",
     "output_type": "stream",
     "text": [
      "map:\n",
      "  min_lat: 50.8295206\n",
      "  min_lon: 6.0236285500000015\n",
      "  max_lat: 50.8316988\n",
      "  max_lon: 6.025806749999997\n"
     ]
    }
   ],
   "source": [
    "envelope = m.envelope()\n",
    "with open(\"map.yaml\", \"w\") as yamlFile:\n",
    "  west  = envelope[0]\n",
    "  south = envelope[1]\n",
    "  east  = envelope[2]\n",
    "  north = envelope[3]\n",
    "  yamlFile.write(\"map:\" + \"\\n\")\n",
    "  yamlFile.write(\"  min_lat: \" + str(south) + \"\\n\")\n",
    "  yamlFile.write(\"  min_lon: \" + str(west)  + \"\\n\")\n",
    "  yamlFile.write(\"  max_lat: \" + str(north) + \"\\n\")\n",
    "  yamlFile.write(\"  max_lon: \" + str(east)  + \"\\n\")\n",
    "  print(\"map:\")\n",
    "  print(\"  min_lat: \" + str(south))\n",
    "  print(\"  min_lon: \" + str(west))\n",
    "  print(\"  max_lat: \" + str(north))\n",
    "  print(\"  max_lon: \" + str(east))\n"
   ]
  },
  {
   "cell_type": "code",
   "execution_count": null,
   "metadata": {},
   "outputs": [],
   "source": []
  }
 ],
 "metadata": {
  "kernelspec": {
   "display_name": "Python 3",
   "language": "python",
   "name": "python3"
  },
  "language_info": {
   "codemirror_mode": {
    "name": "ipython",
    "version": 3
   },
   "file_extension": ".py",
   "mimetype": "text/x-python",
   "name": "python",
   "nbconvert_exporter": "python",
   "pygments_lexer": "ipython3",
   "version": "3.6.8"
  }
 },
 "nbformat": 4,
 "nbformat_minor": 2
}
